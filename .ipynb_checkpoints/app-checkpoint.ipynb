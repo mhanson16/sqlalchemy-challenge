{
 "cells": [
  {
   "cell_type": "code",
   "execution_count": 14,
   "id": "ba243b4c",
   "metadata": {},
   "outputs": [],
   "source": [
    "# Dependencies\n",
    "\n",
    "import numpy as np\n",
    "\n",
    "import sqlalchemy\n",
    "from sqlalchemy.ext.automap import automap_base\n",
    "from sqlalchemy.orm import Session\n",
    "from sqlalchemy import create_engine, func\n",
    "\n",
    "from flask import Flask, jsonify\n"
   ]
  },
  {
   "cell_type": "code",
   "execution_count": 15,
   "id": "73ed5c86",
   "metadata": {},
   "outputs": [],
   "source": [
    "#################################################\n",
    "# Database Setup\n",
    "#################################################\n",
    "engine = create_engine(\"sqlite:///Resources/hawaii.sqlite\")"
   ]
  },
  {
   "cell_type": "code",
   "execution_count": 16,
   "id": "1672d756",
   "metadata": {},
   "outputs": [],
   "source": [
    "# reflect an existing database into a new model\n",
    "Base = automap_base()\n",
    "# reflect the tables\n",
    "Base.prepare(autoload_with=engine)"
   ]
  },
  {
   "cell_type": "code",
   "execution_count": null,
   "id": "d92b2003",
   "metadata": {},
   "outputs": [],
   "source": [
    "# Save references to each table\n",
    "measurement = Base.classes.measurement\n",
    "station = Base.classes.station"
   ]
  },
  {
   "cell_type": "code",
   "execution_count": 17,
   "id": "4230f1bd",
   "metadata": {},
   "outputs": [],
   "source": [
    "## 1.)\n",
    "@app.route(\"/\")\n",
    "def hello():\n",
    "    \"\"\"List all available api routes.\"\"\"\n",
    "    return (\n",
    "        f\"Available Routes:<br/>\"\n",
    "        f\"/api/v1.0/precipitation<br/>\"\n",
    "        f\"/api/v1.0/stations<br/>\"\n",
    "        f\"/api/v1.0/tobs<br/>\"\n",
    "        f\"/api/v1.0/<start><br/>\"\n",
    "        f\"/api/v1.0/<start>/<end>\"\n",
    "    )\n"
   ]
  },
  {
   "cell_type": "code",
   "execution_count": 21,
   "id": "79d89067",
   "metadata": {},
   "outputs": [],
   "source": [
    "## 2.)\n",
    "@app.route(\"/api/v1.0/precipitation\")\n",
    "def precipitation():\n",
    "    # Create our session (link) from Python to the DB\n",
    "    session = Session(engine)\n",
    "\n",
    "    \"\"\"From Part 1 code\"\"\"\n",
    "    most_recent = session.query(measurement.date).order_by(measurement.date.desc()).first().date\n",
    "    one_year_ago = dt.date(2017,8,23) - dt.timedelta(days = 365)\n",
    "    precipitation = session.query(measurement.date, (measurement.prcp)).filter(measurement.date >= one_year_ago).all()\n",
    "\n",
    "    \n",
    "    session.close()\n",
    "\n",
    "    # dictionary using date as the key and prcp as the value.\n",
    "    precipitation_dictionary = []\n",
    "    for date, prcp in results:\n",
    "        precipitation_dict = {}\n",
    "        precipitation_dict[\"date\"] = prcp\n",
    "        precipitation_dictionary.append(precipitation_dict)\n",
    "\n",
    "    return jsonify(precipitation_dictionary)"
   ]
  },
  {
   "cell_type": "code",
   "execution_count": null,
   "id": "08524681",
   "metadata": {},
   "outputs": [],
   "source": [
    "## 3.)\n",
    "@app.route(\"/api/v1.0/stations\")\n",
    "\n",
    "def stations():\n",
    "    # Create our session (link) from Python to the DB\n",
    "    session = Session(engine)\n",
    "\n",
    "    \"\"\"From Part 1 code\"\"\"\n",
    "    stations = session.query(station.name).all()"
   ]
  }
 ],
 "metadata": {
  "kernelspec": {
   "display_name": "Python 3 (ipykernel)",
   "language": "python",
   "name": "python3"
  },
  "language_info": {
   "codemirror_mode": {
    "name": "ipython",
    "version": 3
   },
   "file_extension": ".py",
   "mimetype": "text/x-python",
   "name": "python",
   "nbconvert_exporter": "python",
   "pygments_lexer": "ipython3",
   "version": "3.9.13"
  }
 },
 "nbformat": 4,
 "nbformat_minor": 5
}
